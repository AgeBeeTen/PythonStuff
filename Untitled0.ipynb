{
  "nbformat": 4,
  "nbformat_minor": 0,
  "metadata": {
    "colab": {
      "name": "Untitled0.ipynb",
      "provenance": [],
      "collapsed_sections": [],
      "authorship_tag": "ABX9TyNVOg9lbB6jx4gQXgL3aIfR",
      "include_colab_link": true
    },
    "kernelspec": {
      "name": "python3",
      "display_name": "Python 3"
    }
  },
  "cells": [
    {
      "cell_type": "markdown",
      "metadata": {
        "id": "view-in-github",
        "colab_type": "text"
      },
      "source": [
        "<a href=\"https://colab.research.google.com/github/AgeBeeTen/PythonStuff/blob/main/Untitled0.ipynb\" target=\"_parent\"><img src=\"https://colab.research.google.com/assets/colab-badge.svg\" alt=\"Open In Colab\"/></a>"
      ]
    },
    {
      "cell_type": "code",
      "metadata": {
        "id": "E4TCA7V1UuKg"
      },
      "source": [
        "import numpy as np"
      ],
      "execution_count": 16,
      "outputs": []
    },
    {
      "cell_type": "code",
      "metadata": {
        "id": "gU7H7Oe8RS6F"
      },
      "source": [
        "randnums= np.random.randint(1,101,100)"
      ],
      "execution_count": 49,
      "outputs": []
    },
    {
      "cell_type": "code",
      "metadata": {
        "colab": {
          "base_uri": "https://localhost:8080/"
        },
        "id": "ijVczPICRXr-",
        "outputId": "525f8d51-2b62-4163-80c1-6601d3f7ba97"
      },
      "source": [
        "randnums"
      ],
      "execution_count": 50,
      "outputs": [
        {
          "output_type": "execute_result",
          "data": {
            "text/plain": [
              "array([ 2, 57, 85, 50, 86, 32, 60, 73, 83, 20, 33, 86, 83, 13, 32, 79,  1,\n",
              "       51, 38, 62, 66, 53, 82, 60, 87, 69, 46, 47, 82, 48, 57, 69, 80, 27,\n",
              "       83, 33, 12, 52,  2, 77, 17, 63, 59, 33, 67, 53, 92, 23,  1, 96, 45,\n",
              "       92, 89, 92, 91, 26, 66, 65, 35, 37, 90, 16, 20, 54, 24, 96, 90,  8,\n",
              "       19, 65, 88, 44, 75, 33, 54,  6, 63, 93, 93, 49, 95, 13, 35, 35, 92,\n",
              "       80,  9,  1, 74, 39, 73, 83,  3, 38, 77, 21, 97, 15, 49,  1])"
            ]
          },
          "metadata": {
            "tags": []
          },
          "execution_count": 50
        }
      ]
    },
    {
      "cell_type": "code",
      "metadata": {
        "id": "nNxUCr06Rfxx"
      },
      "source": [
        "bins = np.array([0.0, 1.0, 2.5, 4.0, 50, 80, 101.0])"
      ],
      "execution_count": 59,
      "outputs": []
    },
    {
      "cell_type": "code",
      "metadata": {
        "id": "xCuTjjsyRw1C"
      },
      "source": [
        "inds = np.digitize(randnums, bins)"
      ],
      "execution_count": 60,
      "outputs": []
    },
    {
      "cell_type": "code",
      "metadata": {
        "colab": {
          "base_uri": "https://localhost:8080/"
        },
        "id": "M_v1a-xhR4q-",
        "outputId": "702815c3-9681-4583-c620-f516dc7965e4"
      },
      "source": [
        "for n in range(randnums.size):\n",
        "  print(bins[inds[n]-1], \"<=\", randnums[n], \"<\", bins[inds[n]])"
      ],
      "execution_count": 61,
      "outputs": [
        {
          "output_type": "stream",
          "text": [
            "1.0 <= 2 < 2.5\n",
            "50.0 <= 57 < 80.0\n",
            "80.0 <= 85 < 101.0\n",
            "50.0 <= 50 < 80.0\n",
            "80.0 <= 86 < 101.0\n",
            "4.0 <= 32 < 50.0\n",
            "50.0 <= 60 < 80.0\n",
            "50.0 <= 73 < 80.0\n",
            "80.0 <= 83 < 101.0\n",
            "4.0 <= 20 < 50.0\n",
            "4.0 <= 33 < 50.0\n",
            "80.0 <= 86 < 101.0\n",
            "80.0 <= 83 < 101.0\n",
            "4.0 <= 13 < 50.0\n",
            "4.0 <= 32 < 50.0\n",
            "50.0 <= 79 < 80.0\n",
            "1.0 <= 1 < 2.5\n",
            "50.0 <= 51 < 80.0\n",
            "4.0 <= 38 < 50.0\n",
            "50.0 <= 62 < 80.0\n",
            "50.0 <= 66 < 80.0\n",
            "50.0 <= 53 < 80.0\n",
            "80.0 <= 82 < 101.0\n",
            "50.0 <= 60 < 80.0\n",
            "80.0 <= 87 < 101.0\n",
            "50.0 <= 69 < 80.0\n",
            "4.0 <= 46 < 50.0\n",
            "4.0 <= 47 < 50.0\n",
            "80.0 <= 82 < 101.0\n",
            "4.0 <= 48 < 50.0\n",
            "50.0 <= 57 < 80.0\n",
            "50.0 <= 69 < 80.0\n",
            "80.0 <= 80 < 101.0\n",
            "4.0 <= 27 < 50.0\n",
            "80.0 <= 83 < 101.0\n",
            "4.0 <= 33 < 50.0\n",
            "4.0 <= 12 < 50.0\n",
            "50.0 <= 52 < 80.0\n",
            "1.0 <= 2 < 2.5\n",
            "50.0 <= 77 < 80.0\n",
            "4.0 <= 17 < 50.0\n",
            "50.0 <= 63 < 80.0\n",
            "50.0 <= 59 < 80.0\n",
            "4.0 <= 33 < 50.0\n",
            "50.0 <= 67 < 80.0\n",
            "50.0 <= 53 < 80.0\n",
            "80.0 <= 92 < 101.0\n",
            "4.0 <= 23 < 50.0\n",
            "1.0 <= 1 < 2.5\n",
            "80.0 <= 96 < 101.0\n",
            "4.0 <= 45 < 50.0\n",
            "80.0 <= 92 < 101.0\n",
            "80.0 <= 89 < 101.0\n",
            "80.0 <= 92 < 101.0\n",
            "80.0 <= 91 < 101.0\n",
            "4.0 <= 26 < 50.0\n",
            "50.0 <= 66 < 80.0\n",
            "50.0 <= 65 < 80.0\n",
            "4.0 <= 35 < 50.0\n",
            "4.0 <= 37 < 50.0\n",
            "80.0 <= 90 < 101.0\n",
            "4.0 <= 16 < 50.0\n",
            "4.0 <= 20 < 50.0\n",
            "50.0 <= 54 < 80.0\n",
            "4.0 <= 24 < 50.0\n",
            "80.0 <= 96 < 101.0\n",
            "80.0 <= 90 < 101.0\n",
            "4.0 <= 8 < 50.0\n",
            "4.0 <= 19 < 50.0\n",
            "50.0 <= 65 < 80.0\n",
            "80.0 <= 88 < 101.0\n",
            "4.0 <= 44 < 50.0\n",
            "50.0 <= 75 < 80.0\n",
            "4.0 <= 33 < 50.0\n",
            "50.0 <= 54 < 80.0\n",
            "4.0 <= 6 < 50.0\n",
            "50.0 <= 63 < 80.0\n",
            "80.0 <= 93 < 101.0\n",
            "80.0 <= 93 < 101.0\n",
            "4.0 <= 49 < 50.0\n",
            "80.0 <= 95 < 101.0\n",
            "4.0 <= 13 < 50.0\n",
            "4.0 <= 35 < 50.0\n",
            "4.0 <= 35 < 50.0\n",
            "80.0 <= 92 < 101.0\n",
            "80.0 <= 80 < 101.0\n",
            "4.0 <= 9 < 50.0\n",
            "1.0 <= 1 < 2.5\n",
            "50.0 <= 74 < 80.0\n",
            "4.0 <= 39 < 50.0\n",
            "50.0 <= 73 < 80.0\n",
            "80.0 <= 83 < 101.0\n",
            "2.5 <= 3 < 4.0\n",
            "4.0 <= 38 < 50.0\n",
            "50.0 <= 77 < 80.0\n",
            "4.0 <= 21 < 50.0\n",
            "80.0 <= 97 < 101.0\n",
            "4.0 <= 15 < 50.0\n",
            "4.0 <= 49 < 50.0\n",
            "1.0 <= 1 < 2.5\n"
          ],
          "name": "stdout"
        }
      ]
    }
  ]
}